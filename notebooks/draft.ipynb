{
 "cells": [
  {
   "cell_type": "code",
   "execution_count": null,
   "metadata": {},
   "outputs": [],
   "source": [
    "import rosbag\n",
    "bag = rosbag.Bag('/media/rstaion/My Passport/msceqf-vs-openvins-dataset.bag', \"r\")\n",
    "column_names = [\"#timestamp [ns]\", \n",
    "                \"p_RS_R_x [m]\", \n",
    "                \"p_RS_R_y [m]\",\n",
    "                \"p_RS_R_z [m]\",\n",
    "                \"q_RS_w []\",\n",
    "                \"q_RS_x []\",\n",
    "                \"q_RS_y []\",\n",
    "                \"q_RS_z []\",\n",
    "                ]"
   ]
  },
  {
   "cell_type": "code",
   "execution_count": null,
   "metadata": {},
   "outputs": [],
   "source": [
    "import numpy as np\n",
    "pose_topic = '/vicon/GO2/GO2'\n",
    "ts = []\n",
    "qs = []\n",
    "stamps = []\n",
    "for topic, msg, t in bag.read_messages(topics=[pose_topic]):\n",
    "    stamp = msg.header.stamp.to_nsec()\n",
    "    px = msg.pose.position.x \n",
    "    py = msg.pose.position.y \n",
    "    pz = msg.pose.position.z \n",
    "    qx = msg.pose.orientation.x \n",
    "    qy = msg.pose.orientation.y \n",
    "    qz = msg.pose.orientation.z \n",
    "    qw = msg.pose.orientation.w \n",
    "    t = [px, py, pz]\n",
    "    q = [qw, qx, qy, qz]\n",
    "    ts.append(t)\n",
    "    qs.append(q)\n",
    "    stamps.append(stamp)\n",
    "qs = np.array(qs)\n",
    "ts = np.array(ts)\n",
    "stamps = np.array(stamps).reshape(-1,1)\n",
    "data = np.hstack([stamps, ts, qs])"
   ]
  },
  {
   "cell_type": "code",
   "execution_count": null,
   "metadata": {},
   "outputs": [],
   "source": []
  },
  {
   "cell_type": "code",
   "execution_count": null,
   "metadata": {},
   "outputs": [],
   "source": [
    "import numpy as np\n",
    "import pandas as pd\n",
    "df = pd.DataFrame(data=data, columns= column_names)"
   ]
  },
  {
   "cell_type": "code",
   "execution_count": null,
   "metadata": {},
   "outputs": [],
   "source": [
    "from RoboCastingTools.rosbag_utils import bag2Poses\n",
    "bag2Poses('/media/rstaion/My Passport/msceqf-vs-openvins-dataset.bag',\n",
    "                                                   '.',\n",
    "                                                    '/vicon/GO2/GO2')"
   ]
  },
  {
   "cell_type": "code",
   "execution_count": null,
   "metadata": {},
   "outputs": [],
   "source": [
    "%matplotlib\n",
    "df.loc[:,'a_RS_S_x [m s^-2]':'a_RS_S_z [m s^-2]'].plot()"
   ]
  },
  {
   "cell_type": "code",
   "execution_count": null,
   "metadata": {},
   "outputs": [],
   "source": [
    "import matplotlib.pyplot as plt\n",
    "plt.ylabel('$m/s^2$')\n",
    "plt.title('Camera Accelerometer')"
   ]
  },
  {
   "cell_type": "code",
   "execution_count": null,
   "metadata": {},
   "outputs": [],
   "source": [
    "df.loc[:,'w_RS_S_x [rad s^-1]':'w_RS_S_z [rad s^-1]'].plot()"
   ]
  },
  {
   "cell_type": "code",
   "execution_count": null,
   "metadata": {},
   "outputs": [],
   "source": [
    "plt.ylabel('$rad/s$')\n",
    "plt.title('Camera Gyroscope')"
   ]
  },
  {
   "cell_type": "code",
   "execution_count": null,
   "metadata": {},
   "outputs": [],
   "source": [
    "# df_data = {\"timestamp(ns)\": image_stamps[:, 0], \"image_idx\": image_stamps[:, 1]}\n",
    "\n",
    "# bag.close()\n",
    "\n",
    "# # Save timestamps to CSV\n",
    "# df = pd.DataFrame(data=df_data)\n",
    "# df.to_csv(os.path.join(output_dir, \"timestamps.csv\"), index=False)"
   ]
  },
  {
   "cell_type": "code",
   "execution_count": null,
   "metadata": {},
   "outputs": [],
   "source": [
    "from RoboCastingTools.rosbag_utils import bag2IMUs\n",
    "\n",
    "bag2IMUs('/media/rstaion/My Passport/msceqf-vs-openvins-dataset.bag',\n",
    "                                                   '.',\n",
    "                                                    '/go2/imus')"
   ]
  },
  {
   "cell_type": "code",
   "execution_count": null,
   "metadata": {},
   "outputs": [],
   "source": [
    "from RoboCastingTools.rosbag_utils import bag2Images"
   ]
  },
  {
   "cell_type": "code",
   "execution_count": null,
   "metadata": {},
   "outputs": [],
   "source": [
    "import os\n",
    "output_dir='output'\n",
    "os.path.join(output_dir, 'data')"
   ]
  },
  {
   "cell_type": "code",
   "execution_count": null,
   "metadata": {},
   "outputs": [],
   "source": [
    "bag2Images('/media/rstaion/My Passport/msceqf-vs-openvins-dataset.bag',\n",
    "'output',\n",
    "'/go2/d455/depth/image_rect_raw')"
   ]
  }
 ],
 "metadata": {
  "kernelspec": {
   "display_name": "b1-env",
   "language": "python",
   "name": "python3"
  },
  "language_info": {
   "codemirror_mode": {
    "name": "ipython",
    "version": 3
   },
   "file_extension": ".py",
   "mimetype": "text/x-python",
   "name": "python",
   "nbconvert_exporter": "python",
   "pygments_lexer": "ipython3",
   "version": "3.8.10"
  }
 },
 "nbformat": 4,
 "nbformat_minor": 2
}
