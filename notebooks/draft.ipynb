{
 "cells": [
  {
   "cell_type": "code",
   "execution_count": 11,
   "metadata": {},
   "outputs": [],
   "source": [
    "import rosbag\n",
    "bag = rosbag.Bag('/media/rstaion/My Passport/msceqf-vs-openvins-dataset.bag', \"r\")\n",
    "column_names = [\"#timestamp [ns]\", \n",
    "                \"p_RS_R_x [m]\", \n",
    "                \"p_RS_R_y [m]\",\n",
    "                \"p_RS_R_z [m]\",\n",
    "                \"q_RS_w []\",\n",
    "                \"q_RS_x []\",\n",
    "                \"q_RS_y []\",\n",
    "                \"q_RS_z []\",\n",
    "                ]"
   ]
  },
  {
   "cell_type": "code",
   "execution_count": 12,
   "metadata": {},
   "outputs": [],
   "source": [
    "import numpy as np\n",
    "pose_topic = '/vicon/GO2/GO2'\n",
    "ts = []\n",
    "qs = []\n",
    "stamps = []\n",
    "for topic, msg, t in bag.read_messages(topics=[pose_topic]):\n",
    "    stamp = msg.header.stamp.to_nsec()\n",
    "    px = msg.pose.position.x \n",
    "    py = msg.pose.position.y \n",
    "    pz = msg.pose.position.z \n",
    "    qx = msg.pose.orientation.x \n",
    "    qy = msg.pose.orientation.y \n",
    "    qz = msg.pose.orientation.z \n",
    "    qw = msg.pose.orientation.w \n",
    "    t = [px, py, pz]\n",
    "    q = [qw, qx, qy, qz]\n",
    "    ts.append(t)\n",
    "    qs.append(q)\n",
    "    stamps.append(stamp)\n",
    "qs = np.array(qs)\n",
    "ts = np.array(ts)\n",
    "stamps = np.array(stamps).reshape(-1,1)\n",
    "data = np.hstack([stamps, ts, qs])"
   ]
  },
  {
   "cell_type": "code",
   "execution_count": null,
   "metadata": {},
   "outputs": [],
   "source": []
  },
  {
   "cell_type": "code",
   "execution_count": 15,
   "metadata": {},
   "outputs": [],
   "source": [
    "import numpy as np\n",
    "import pandas as pd\n",
    "df = pd.DataFrame(data=data, columns= column_names)"
   ]
  },
  {
   "cell_type": "code",
   "execution_count": 1,
   "metadata": {},
   "outputs": [
    {
     "name": "stderr",
     "output_type": "stream",
     "text": [
      "20702it [00:02, 9241.43it/s] \n"
     ]
    },
    {
     "data": {
      "text/html": [
       "<div>\n",
       "<style scoped>\n",
       "    .dataframe tbody tr th:only-of-type {\n",
       "        vertical-align: middle;\n",
       "    }\n",
       "\n",
       "    .dataframe tbody tr th {\n",
       "        vertical-align: top;\n",
       "    }\n",
       "\n",
       "    .dataframe thead th {\n",
       "        text-align: right;\n",
       "    }\n",
       "</style>\n",
       "<table border=\"1\" class=\"dataframe\">\n",
       "  <thead>\n",
       "    <tr style=\"text-align: right;\">\n",
       "      <th></th>\n",
       "      <th>#timestamp [ns]</th>\n",
       "      <th>p_RS_R_x [m]</th>\n",
       "      <th>p_RS_R_y [m]</th>\n",
       "      <th>p_RS_R_z [m]</th>\n",
       "      <th>q_RS_w []</th>\n",
       "      <th>q_RS_x []</th>\n",
       "      <th>q_RS_y []</th>\n",
       "      <th>q_RS_z []</th>\n",
       "    </tr>\n",
       "  </thead>\n",
       "  <tbody>\n",
       "    <tr>\n",
       "      <th>0</th>\n",
       "      <td>1.718848e+18</td>\n",
       "      <td>-0.566390</td>\n",
       "      <td>0.931673</td>\n",
       "      <td>0.145514</td>\n",
       "      <td>0.502371</td>\n",
       "      <td>0.000116</td>\n",
       "      <td>0.002716</td>\n",
       "      <td>0.864648</td>\n",
       "    </tr>\n",
       "    <tr>\n",
       "      <th>1</th>\n",
       "      <td>1.718848e+18</td>\n",
       "      <td>-0.566370</td>\n",
       "      <td>0.931667</td>\n",
       "      <td>0.145533</td>\n",
       "      <td>0.502418</td>\n",
       "      <td>0.000229</td>\n",
       "      <td>0.002746</td>\n",
       "      <td>0.864620</td>\n",
       "    </tr>\n",
       "    <tr>\n",
       "      <th>2</th>\n",
       "      <td>1.718848e+18</td>\n",
       "      <td>-0.566310</td>\n",
       "      <td>0.931687</td>\n",
       "      <td>0.145511</td>\n",
       "      <td>0.502544</td>\n",
       "      <td>0.000245</td>\n",
       "      <td>0.002767</td>\n",
       "      <td>0.864547</td>\n",
       "    </tr>\n",
       "    <tr>\n",
       "      <th>3</th>\n",
       "      <td>1.718848e+18</td>\n",
       "      <td>-0.566326</td>\n",
       "      <td>0.931677</td>\n",
       "      <td>0.145466</td>\n",
       "      <td>0.502452</td>\n",
       "      <td>0.000076</td>\n",
       "      <td>0.002768</td>\n",
       "      <td>0.864601</td>\n",
       "    </tr>\n",
       "    <tr>\n",
       "      <th>4</th>\n",
       "      <td>1.718848e+18</td>\n",
       "      <td>-0.566330</td>\n",
       "      <td>0.931671</td>\n",
       "      <td>0.145510</td>\n",
       "      <td>0.502430</td>\n",
       "      <td>0.000395</td>\n",
       "      <td>0.002819</td>\n",
       "      <td>0.864613</td>\n",
       "    </tr>\n",
       "    <tr>\n",
       "      <th>...</th>\n",
       "      <td>...</td>\n",
       "      <td>...</td>\n",
       "      <td>...</td>\n",
       "      <td>...</td>\n",
       "      <td>...</td>\n",
       "      <td>...</td>\n",
       "      <td>...</td>\n",
       "      <td>...</td>\n",
       "    </tr>\n",
       "    <tr>\n",
       "      <th>20697</th>\n",
       "      <td>1.718848e+18</td>\n",
       "      <td>-0.571852</td>\n",
       "      <td>-0.951967</td>\n",
       "      <td>0.161448</td>\n",
       "      <td>0.999509</td>\n",
       "      <td>-0.008644</td>\n",
       "      <td>0.000314</td>\n",
       "      <td>-0.030120</td>\n",
       "    </tr>\n",
       "    <tr>\n",
       "      <th>20698</th>\n",
       "      <td>1.718848e+18</td>\n",
       "      <td>-0.571832</td>\n",
       "      <td>-0.951968</td>\n",
       "      <td>0.161443</td>\n",
       "      <td>0.999509</td>\n",
       "      <td>-0.008648</td>\n",
       "      <td>0.000319</td>\n",
       "      <td>-0.030111</td>\n",
       "    </tr>\n",
       "    <tr>\n",
       "      <th>20699</th>\n",
       "      <td>1.718848e+18</td>\n",
       "      <td>-0.571821</td>\n",
       "      <td>-0.951981</td>\n",
       "      <td>0.161438</td>\n",
       "      <td>0.999508</td>\n",
       "      <td>-0.008650</td>\n",
       "      <td>0.000279</td>\n",
       "      <td>-0.030134</td>\n",
       "    </tr>\n",
       "    <tr>\n",
       "      <th>20700</th>\n",
       "      <td>1.718848e+18</td>\n",
       "      <td>-0.571830</td>\n",
       "      <td>-0.951981</td>\n",
       "      <td>0.161420</td>\n",
       "      <td>0.999508</td>\n",
       "      <td>-0.008649</td>\n",
       "      <td>0.000287</td>\n",
       "      <td>-0.030132</td>\n",
       "    </tr>\n",
       "    <tr>\n",
       "      <th>20701</th>\n",
       "      <td>1.718848e+18</td>\n",
       "      <td>-0.571835</td>\n",
       "      <td>-0.952005</td>\n",
       "      <td>0.161421</td>\n",
       "      <td>0.999509</td>\n",
       "      <td>-0.008612</td>\n",
       "      <td>0.000290</td>\n",
       "      <td>-0.030139</td>\n",
       "    </tr>\n",
       "  </tbody>\n",
       "</table>\n",
       "<p>20702 rows × 8 columns</p>\n",
       "</div>"
      ],
      "text/plain": [
       "       #timestamp [ns]  p_RS_R_x [m]  p_RS_R_y [m]  p_RS_R_z [m]  q_RS_w []  \\\n",
       "0         1.718848e+18     -0.566390      0.931673      0.145514   0.502371   \n",
       "1         1.718848e+18     -0.566370      0.931667      0.145533   0.502418   \n",
       "2         1.718848e+18     -0.566310      0.931687      0.145511   0.502544   \n",
       "3         1.718848e+18     -0.566326      0.931677      0.145466   0.502452   \n",
       "4         1.718848e+18     -0.566330      0.931671      0.145510   0.502430   \n",
       "...                ...           ...           ...           ...        ...   \n",
       "20697     1.718848e+18     -0.571852     -0.951967      0.161448   0.999509   \n",
       "20698     1.718848e+18     -0.571832     -0.951968      0.161443   0.999509   \n",
       "20699     1.718848e+18     -0.571821     -0.951981      0.161438   0.999508   \n",
       "20700     1.718848e+18     -0.571830     -0.951981      0.161420   0.999508   \n",
       "20701     1.718848e+18     -0.571835     -0.952005      0.161421   0.999509   \n",
       "\n",
       "       q_RS_x []  q_RS_y []  q_RS_z []  \n",
       "0       0.000116   0.002716   0.864648  \n",
       "1       0.000229   0.002746   0.864620  \n",
       "2       0.000245   0.002767   0.864547  \n",
       "3       0.000076   0.002768   0.864601  \n",
       "4       0.000395   0.002819   0.864613  \n",
       "...          ...        ...        ...  \n",
       "20697  -0.008644   0.000314  -0.030120  \n",
       "20698  -0.008648   0.000319  -0.030111  \n",
       "20699  -0.008650   0.000279  -0.030134  \n",
       "20700  -0.008649   0.000287  -0.030132  \n",
       "20701  -0.008612   0.000290  -0.030139  \n",
       "\n",
       "[20702 rows x 8 columns]"
      ]
     },
     "execution_count": 1,
     "metadata": {},
     "output_type": "execute_result"
    }
   ],
   "source": [
    "from RoboCastingTools.rosbag_utils import bag2Poses\n",
    "bag2Poses('/media/rstaion/My Passport/msceqf-vs-openvins-dataset.bag',\n",
    "                                                   '.',\n",
    "                                                    '/vicon/GO2/GO2')"
   ]
  },
  {
   "cell_type": "code",
   "execution_count": null,
   "metadata": {},
   "outputs": [],
   "source": [
    "%matplotlib\n",
    "df.loc[:,'a_RS_S_x [m s^-2]':'a_RS_S_z [m s^-2]'].plot()"
   ]
  },
  {
   "cell_type": "code",
   "execution_count": null,
   "metadata": {},
   "outputs": [],
   "source": [
    "import matplotlib.pyplot as plt\n",
    "plt.ylabel('$m/s^2$')\n",
    "plt.title('Camera Accelerometer')"
   ]
  },
  {
   "cell_type": "code",
   "execution_count": null,
   "metadata": {},
   "outputs": [],
   "source": [
    "df.loc[:,'w_RS_S_x [rad s^-1]':'w_RS_S_z [rad s^-1]'].plot()"
   ]
  },
  {
   "cell_type": "code",
   "execution_count": null,
   "metadata": {},
   "outputs": [],
   "source": [
    "plt.ylabel('$rad/s$')\n",
    "plt.title('Camera Gyroscope')"
   ]
  },
  {
   "cell_type": "code",
   "execution_count": null,
   "metadata": {},
   "outputs": [],
   "source": [
    "# df_data = {\"timestamp(ns)\": image_stamps[:, 0], \"image_idx\": image_stamps[:, 1]}\n",
    "\n",
    "# bag.close()\n",
    "\n",
    "# # Save timestamps to CSV\n",
    "# df = pd.DataFrame(data=df_data)\n",
    "# df.to_csv(os.path.join(output_dir, \"timestamps.csv\"), index=False)"
   ]
  },
  {
   "cell_type": "code",
   "execution_count": 1,
   "metadata": {},
   "outputs": [
    {
     "name": "stderr",
     "output_type": "stream",
     "text": [
      "0it [00:00, ?it/s]\n"
     ]
    },
    {
     "ename": "AssertionError",
     "evalue": "There are no IMU topics with the given name in the selected bag file",
     "output_type": "error",
     "traceback": [
      "\u001b[0;31m---------------------------------------------------------------------------\u001b[0m",
      "\u001b[0;31mAssertionError\u001b[0m                            Traceback (most recent call last)",
      "Cell \u001b[0;32mIn[1], line 3\u001b[0m\n\u001b[1;32m      1\u001b[0m \u001b[38;5;28;01mfrom\u001b[39;00m \u001b[38;5;21;01mRoboCastingTools\u001b[39;00m\u001b[38;5;21;01m.\u001b[39;00m\u001b[38;5;21;01mrosbag_utils\u001b[39;00m \u001b[38;5;28;01mimport\u001b[39;00m bag2IMUs\n\u001b[0;32m----> 3\u001b[0m \u001b[43mbag2IMUs\u001b[49m\u001b[43m(\u001b[49m\u001b[38;5;124;43m'\u001b[39;49m\u001b[38;5;124;43m/media/rstaion/My Passport/msceqf-vs-openvins-dataset.bag\u001b[39;49m\u001b[38;5;124;43m'\u001b[39;49m\u001b[43m,\u001b[49m\n\u001b[1;32m      4\u001b[0m \u001b[43m                                                   \u001b[49m\u001b[38;5;124;43m'\u001b[39;49m\u001b[38;5;124;43m.\u001b[39;49m\u001b[38;5;124;43m'\u001b[39;49m\u001b[43m,\u001b[49m\n\u001b[1;32m      5\u001b[0m \u001b[43m                                                    \u001b[49m\u001b[38;5;124;43m'\u001b[39;49m\u001b[38;5;124;43m/go2/imus\u001b[39;49m\u001b[38;5;124;43m'\u001b[39;49m\u001b[43m)\u001b[49m\n",
      "File \u001b[0;32m~/projects/rooholla/tools/RoboCastingTools/RoboCastingTools/rosbag_utils.py:128\u001b[0m, in \u001b[0;36mbag2IMUs\u001b[0;34m(bag_file_path, output_dir, imu_topic, output_file_name)\u001b[0m\n\u001b[1;32m    126\u001b[0m     gyros\u001b[38;5;241m.\u001b[39mappend(gyro)\n\u001b[1;32m    127\u001b[0m     stamps\u001b[38;5;241m.\u001b[39mappend(stamp)\n\u001b[0;32m--> 128\u001b[0m \u001b[38;5;28;01massert\u001b[39;00m \u001b[38;5;28mlen\u001b[39m(stamps) \u001b[38;5;241m>\u001b[39m \u001b[38;5;241m0\u001b[39m, \u001b[38;5;124m'\u001b[39m\u001b[38;5;124mThere are no IMU topics with the given name in the selected bag file\u001b[39m\u001b[38;5;124m'\u001b[39m\n\u001b[1;32m    129\u001b[0m accels \u001b[38;5;241m=\u001b[39m np\u001b[38;5;241m.\u001b[39marray(accels)\n\u001b[1;32m    130\u001b[0m gyros \u001b[38;5;241m=\u001b[39m np\u001b[38;5;241m.\u001b[39marray(gyros)\n",
      "\u001b[0;31mAssertionError\u001b[0m: There are no IMU topics with the given name in the selected bag file"
     ]
    }
   ],
   "source": [
    "from RoboCastingTools.rosbag_utils import bag2IMUs\n",
    "\n",
    "bag2IMUs('/media/rstaion/My Passport/msceqf-vs-openvins-dataset.bag',\n",
    "                                                   '.',\n",
    "                                                    '/go2/imus')"
   ]
  }
 ],
 "metadata": {
  "kernelspec": {
   "display_name": "b1-env",
   "language": "python",
   "name": "python3"
  },
  "language_info": {
   "codemirror_mode": {
    "name": "ipython",
    "version": 3
   },
   "file_extension": ".py",
   "mimetype": "text/x-python",
   "name": "python",
   "nbconvert_exporter": "python",
   "pygments_lexer": "ipython3",
   "version": "3.8.10"
  }
 },
 "nbformat": 4,
 "nbformat_minor": 2
}
