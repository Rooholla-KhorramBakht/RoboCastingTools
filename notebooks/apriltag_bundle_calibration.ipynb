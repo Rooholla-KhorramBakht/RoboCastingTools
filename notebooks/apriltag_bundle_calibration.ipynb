{
 "cells": [
  {
   "cell_type": "code",
   "execution_count": 123,
   "metadata": {},
   "outputs": [],
   "source": [
    "import pickle\n",
    "import numpy as np\n",
    "with open('output.pkcl', 'rb') as f:\n",
    "    d = pickle.load(f)\n",
    "# Extract the poses with corresponding timestamps from the calibration dataset\n",
    "stamp = {}\n",
    "poses = {}\n",
    "for key in d.keys():\n",
    "    stamp[key] = np.array([s[0] for s in d[key]])\n",
    "    poses[key] = np.stack([s[2] for s in d[key]])"
   ]
  },
  {
   "cell_type": "code",
   "execution_count": 55,
   "metadata": {},
   "outputs": [],
   "source": [
    "from RoboCastingTools.time_sync_utils import getSyncMap\n",
    "ref_frame = 'Block_14'\n",
    "# Compute the synchronizing index map between the reference frame and \n",
    "# all other frames\n",
    "maps = {}\n",
    "for key in stamp.keys():\n",
    "    if key != ref_frame:\n",
    "        map = getSyncMap(stamp[ref_frame],stamp[key],threshold=0.01,add_nans=False)\n",
    "        maps[key] = map"
   ]
  },
  {
   "cell_type": "code",
   "execution_count": 122,
   "metadata": {},
   "outputs": [],
   "source": [
    "# make a dict to map block names to key IDs and vice versa\n",
    "name_to_id = {}\n",
    "id_to_name = {}\n",
    "for i,key in enumerate(poses.keys()):\n",
    "    if key.startswith('Block'):\n",
    "        name_to_id[key]= i\n",
    "        id_to_name[i] = key\n"
   ]
  },
  {
   "cell_type": "code",
   "execution_count": 124,
   "metadata": {},
   "outputs": [],
   "source": [
    "# Use the GTSAM library to find the optimal relative pose between the \n",
    "# ref frame and all other frames based on all the relative pose measurements\n",
    "import gtsam\n",
    "from gtsam import (\n",
    "    Pose3,\n",
    "    Rot3,\n",
    "    PriorFactorPose3,\n",
    "    BetweenFactorPose3,\n",
    "    Point3,\n",
    "    NonlinearFactorGraph,\n",
    "    LevenbergMarquardtOptimizer,\n",
    ")\n",
    "from gtsam.symbol_shorthand import X\n",
    "\n",
    "# Create a factor graph\n",
    "graph = NonlinearFactorGraph()\n",
    "\n",
    "initial = gtsam.Values()\n",
    "for key in name_to_id:\n",
    "    initial.insert(X(name_to_id[key]), gtsam.Pose3())\n",
    "\n",
    "# Add prior factors for the first two poses\n",
    "prior_noise = gtsam.noiseModel.Diagonal.Sigmas((0.1, 0.1, 0.1, 0.1, 0.1, 0.1))\n",
    "graph.add(PriorFactorPose3(X(name_to_id[ref_frame]), Pose3(), prior_noise))\n",
    "\n",
    "# Add between factors to constrain the poses\n",
    "between_noise = gtsam.noiseModel.Diagonal.Sigmas((0.01, 0.01, 0.01, 0.01, 0.01, 0.01))\n",
    "\n",
    "# Add between factor between ref frame and other frames\n",
    "for key in name_to_id:\n",
    "    if key != ref_frame:\n",
    "        ref_pose = poses[ref_frame][maps[key][:,0],...]\n",
    "        target_pose = poses[key][maps[key][:,1],...]\n",
    "        for i in range(ref_pose.shape[0]):\n",
    "            poses[ref_frame][maps[target_key][:,0],...]\n",
    "            pose1 = Pose3(ref_pose[0,...])\n",
    "            pose2 = Pose3(target_pose[0,...])\n",
    "            between12 = pose1.between(pose2)\n",
    "            graph.add(BetweenFactorPose3(X(name_to_id[ref_frame]), \n",
    "                                         X(name_to_id[key]), \n",
    "                                         between12, between_noise))\n",
    "\n",
    "# Optimize the factor graph\n",
    "params = gtsam.LevenbergMarquardtParams()\n",
    "optimizer = LevenbergMarquardtOptimizer(graph,initial,params)\n",
    "optimized_poses = optimizer.optimize()\n",
    "#Store the results\n",
    "results = {}\n",
    "for key in poses:\n",
    "    if key.startswith('Block'):\n",
    "        results[key] = optimized_poses.atPose3(X(name_to_id[key])).matrix()\n",
    "with open('small_tag_calibrateion.pkl', 'wb') as f:\n",
    "    pickle.dump(results, f)"
   ]
  },
  {
   "cell_type": "code",
   "execution_count": 120,
   "metadata": {},
   "outputs": [
    {
     "data": {
      "text/plain": [
       "{'Block_1': array([[-0.57957284,  0.81490585,  0.00487638, -0.66538134],\n",
       "        [-0.8093475 , -0.57629767,  0.11330318, -0.27919199],\n",
       "        [ 0.09514167,  0.06172076,  0.99354849,  0.00557787],\n",
       "        [ 0.        ,  0.        ,  0.        ,  1.        ]]),\n",
       " 'Block_2': array([[-0.31297061,  0.94885925, -0.04141873, -0.60586589],\n",
       "        [-0.94678533, -0.30824222,  0.09265135, -0.08490699],\n",
       "        [ 0.07514609,  0.06821179,  0.99483678,  0.01626335],\n",
       "        [ 0.        ,  0.        ,  0.        ,  1.        ]]),\n",
       " 'Block_3': array([[-0.05277369,  0.99818428, -0.02903602, -0.50167463],\n",
       "        [-0.99692921, -0.05097823,  0.05944223, -0.18103149],\n",
       "        [ 0.05785409,  0.03208384,  0.99780937,  0.01273532],\n",
       "        [ 0.        ,  0.        ,  0.        ,  1.        ]]),\n",
       " 'Block_5': array([[ 0.47178743, -0.88170359, -0.00392429, -0.77918241],\n",
       "        [ 0.87896318,  0.46996056,  0.08099878, -0.0173549 ],\n",
       "        [-0.06957266, -0.04166351,  0.99670647,  0.01531163],\n",
       "        [ 0.        ,  0.        ,  0.        ,  1.        ]]),\n",
       " 'Block_6': array([[ 0.20642008,  0.97835759,  0.01439387, -0.78935204],\n",
       "        [-0.97794517,  0.20580966,  0.03557562, -0.15630974],\n",
       "        [ 0.03184328, -0.02141994,  0.99926332, -0.01722161],\n",
       "        [ 0.        ,  0.        ,  0.        ,  1.        ]]),\n",
       " 'Block_7': array([[-0.01976024,  0.99897749, -0.04066339, -0.80119408],\n",
       "        [-0.99956511, -0.01884874,  0.02267837, -0.2804434 ],\n",
       "        [ 0.02188873,  0.04109383,  0.9989155 ,  0.00723471],\n",
       "        [ 0.        ,  0.        ,  0.        ,  1.        ]]),\n",
       " 'Block_12': array([[ 0.70226259,  0.71112061, -0.0336858 , -0.20799146],\n",
       "        [-0.70151008,  0.69928204,  0.1374345 , -0.01734992],\n",
       "        [ 0.12128838, -0.07288418,  0.98993789,  0.03104362],\n",
       "        [ 0.        ,  0.        ,  0.        ,  1.        ]]),\n",
       " 'Block_15': array([[-0.67429612,  0.7368973 , -0.04803243, -0.11685203],\n",
       "        [-0.73295943, -0.65993038,  0.16511317, -0.14218697],\n",
       "        [ 0.08997339,  0.14654099,  0.98510432,  0.03391295],\n",
       "        [ 0.        ,  0.        ,  0.        ,  1.        ]]),\n",
       " 'Block_11': array([[ 0.99903905,  0.04380003,  0.00159248, -0.25881833],\n",
       "        [-0.04373756,  0.99395164,  0.10073315, -0.12738932],\n",
       "        [ 0.00282926, -0.100706  ,  0.99491221,  0.02168868],\n",
       "        [ 0.        ,  0.        ,  0.        ,  1.        ]]),\n",
       " 'Block_17': array([[-0.74160567,  0.63425526,  0.21849781, -0.07560274],\n",
       "        [-0.64313459, -0.76484335,  0.03731687, -0.34073922],\n",
       "        [ 0.19078502, -0.1128491 ,  0.97512366,  0.02326324],\n",
       "        [ 0.        ,  0.        ,  0.        ,  1.        ]]),\n",
       " 'Block_8': array([[-0.76175892,  0.64764152, -0.0168466 , -0.36051402],\n",
       "        [-0.64214113, -0.75133098,  0.15217269, -0.05930062],\n",
       "        [ 0.08589598,  0.1267368 ,  0.98821033,  0.0217783 ],\n",
       "        [ 0.        ,  0.        ,  0.        ,  1.        ]]),\n",
       " 'Block_13': array([[ 0.93097484,  0.36489279,  0.01179389, -0.19774215],\n",
       "        [-0.36428768,  0.92632939,  0.09596013, -0.33140914],\n",
       "        [ 0.02409013, -0.09363283,  0.99531531,  0.02571177],\n",
       "        [ 0.        ,  0.        ,  0.        ,  1.        ]]),\n",
       " 'Block_9': array([[-0.42869682,  0.90307035, -0.02613381, -0.30667437],\n",
       "        [-0.89620128, -0.42142346,  0.13865617, -0.24506082],\n",
       "        [ 0.11420287,  0.08286262,  0.9899957 ,  0.02217312],\n",
       "        [ 0.        ,  0.        ,  0.        ,  1.        ]]),\n",
       " 'Block_10': array([[ 0.90304466, -0.42865675,  0.02763592, -0.28928385],\n",
       "        [ 0.42733888,  0.90305655,  0.04324764, -0.45325261],\n",
       "        [-0.04349519, -0.02724464,  0.99868208,  0.02958384],\n",
       "        [ 0.        ,  0.        ,  0.        ,  1.        ]]),\n",
       " 'Block_16': array([[ 0.9759648 ,  0.02489331, -0.2165018 , -0.00133359],\n",
       "        [-0.00118957,  0.99404839,  0.10893293, -0.23627943],\n",
       "        [ 0.21792497, -0.10605716,  0.97018585,  0.02511031],\n",
       "        [ 0.        ,  0.        ,  0.        ,  1.        ]]),\n",
       " 'Block_4': array([[ 0.88763306,  0.46015177, -0.01918084, -0.48990623],\n",
       "        [-0.45540584,  0.88316258,  0.11238049, -0.38460993],\n",
       "        [ 0.06865188, -0.09101757,  0.99348011,  0.0146532 ],\n",
       "        [ 0.        ,  0.        ,  0.        ,  1.        ]]),\n",
       " 'Block_0': array([[ 0.54544847,  0.83767757,  0.0279687 , -0.73767896],\n",
       "        [-0.83715895,  0.5428861 ,  0.06663012, -0.44088261],\n",
       "        [ 0.04063074, -0.05975755,  0.99738567, -0.00466895],\n",
       "        [ 0.        ,  0.        ,  0.        ,  1.        ]]),\n",
       " 'Block_14': array([[ 1.00000000e+00, -7.45673042e-21,  2.40751184e-21,\n",
       "          1.07437840e-20],\n",
       "        [ 7.53773496e-21,  1.00000000e+00, -1.95912050e-21,\n",
       "         -3.32646488e-21],\n",
       "        [-2.39429444e-21,  1.96135783e-21,  1.00000000e+00,\n",
       "          2.05603823e-21],\n",
       "        [ 0.00000000e+00,  0.00000000e+00,  0.00000000e+00,\n",
       "          1.00000000e+00]]),\n",
       " 'Block_18': array([[ 9.91056225e-01,  1.72371984e-02,  1.32327010e-01,\n",
       "         -7.74014491e-03],\n",
       "        [-2.56394743e-03,  9.93898934e-01, -1.10264843e-01,\n",
       "         -4.85970627e-01],\n",
       "        [-1.33420331e-01,  1.08939379e-01,  9.85053921e-01,\n",
       "          5.92214484e-05],\n",
       "        [ 0.00000000e+00,  0.00000000e+00,  0.00000000e+00,\n",
       "          1.00000000e+00]])}"
      ]
     },
     "execution_count": 120,
     "metadata": {},
     "output_type": "execute_result"
    }
   ],
   "source": [
    "results"
   ]
  },
  {
   "cell_type": "code",
   "execution_count": 125,
   "metadata": {},
   "outputs": [
    {
     "data": {
      "image/png": "[encoded data removed]",
      "text/plain": [
       "<Figure size 640x480 with 1 Axes>"
      ]
     },
     "metadata": {},
     "output_type": "display_data"
    }
   ],
   "source": [
    "import matplotlib.pyplot as plt\n",
    "for key in results:\n",
    "    if key == ref_frame:\n",
    "        plt.plot(results[key][0,-1], results[key][1,-1], 'r*')\n",
    "    else:\n",
    "        plt.plot(results[key][0,-1], results[key][1,-1], 'b*')"
   ]
  },
  {
   "cell_type": "code",
   "execution_count": 138,
   "metadata": {},
   "outputs": [],
   "source": [
    "tag_size = 0.0765\n"
   ]
  },
  {
   "cell_type": "code",
   "execution_count": 185,
   "metadata": {},
   "outputs": [],
   "source": [
    "from scipy.spatial.transform import Rotation\n",
    "with open('bundle_calibration.txt','w') as f:\n",
    "    f.write('tag_bundles: \\n [ \\n    {\\n')\n",
    "    f.write('\\t name: ''my_bundle'', \\n \\t layout: \\n \\t\\t[\\n')\n",
    "    for key in results.keys():\n",
    "        q = Rotation.from_matrix(results[key][0:3,0:3]).as_quat()\n",
    "        r = results[key][0:3,-1]        \n",
    "        f.write(f'\\t\\t    {{id: {key},\\t size: {tag_size},\\t x: {r[0]:.4f},\\t\\t y: {r[1]:.4f},\\t\\t z: {r[2]:.4f},\\t\\t qw: {q[3]:.7f},\\t\\t qx: {q[0]:.7f},\\t\\t qy: {q[1]:.7f},\\t\\t qz: {q[2]:.7f}}},\\n')\n",
    "    f.write('\\t\\t] \\n    } \\n]\\n')"
   ]
  },
  {
   "cell_type": "code",
   "execution_count": 148,
   "metadata": {},
   "outputs": [
    {
     "data": {
      "text/plain": [
       "array([0., 0., 0., 1.])"
      ]
     },
     "execution_count": 148,
     "metadata": {},
     "output_type": "execute_result"
    }
   ],
   "source": [
    "Rotation.from_matrix(np.eye(3)).as_quat()"
   ]
  },
  {
   "cell_type": "code",
   "execution_count": null,
   "metadata": {},
   "outputs": [],
   "source": []
  }
 ],
 "metadata": {
  "kernelspec": {
   "display_name": "Python 3",
   "language": "python",
   "name": "python3"
  },
  "language_info": {
   "codemirror_mode": {
    "name": "ipython",
    "version": 3
   },
   "file_extension": ".py",
   "mimetype": "text/x-python",
   "name": "python",
   "nbconvert_exporter": "python",
   "pygments_lexer": "ipython3",
   "version": "3.8.10"
  },
  "orig_nbformat": 4,
  "vscode": {
   "interpreter": {
    "hash": "916dbcbb3f70747c44a77c7bcd40155683ae19c65e1c03b4aa3499c5328201f1"
   }
  }
 },
 "nbformat": 4,
 "nbformat_minor": 2
}
