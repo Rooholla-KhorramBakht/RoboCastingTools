{
 "cells": [
  {
   "cell_type": "code",
   "execution_count": 10,
   "metadata": {},
   "outputs": [],
   "source": [
    "import pickle\n",
    "import numpy as np\n",
    "with open('output.pkcl', 'rb') as f:\n",
    "    d = pickle.load(f)\n",
    "# Extract the poses with corresponding timestamps from the calibration dataset\n",
    "stamp = {}\n",
    "poses = {}\n",
    "for key in d.keys():\n",
    "    stamp[key] = np.array([s[0] for s in d[key]])\n",
    "    poses[key] = np.stack([s[2] for s in d[key]])"
   ]
  },
  {
   "cell_type": "code",
   "execution_count": 11,
   "metadata": {},
   "outputs": [],
   "source": [
    "from RoboCastingTools.time_sync_utils import getSyncMap\n",
    "ref_frame = 'Block_3'\n",
    "# Compute the synchronizing index map between the reference frame and \n",
    "# all other frames\n",
    "maps = {}\n",
    "for key in stamp.keys():\n",
    "    if key != ref_frame:\n",
    "        map = getSyncMap(stamp[ref_frame],stamp[key],threshold=0.01,add_nans=False)\n",
    "        maps[key] = map"
   ]
  },
  {
   "cell_type": "code",
   "execution_count": 12,
   "metadata": {},
   "outputs": [],
   "source": [
    "# make a dict to map block names to key IDs and vice versa\n",
    "name_to_id = {}\n",
    "id_to_name = {}\n",
    "for i,key in enumerate(poses.keys()):\n",
    "    if key.startswith('Block'):\n",
    "        name_to_id[key]= i\n",
    "        id_to_name[i] = key\n"
   ]
  },
  {
   "cell_type": "code",
   "execution_count": 13,
   "metadata": {},
   "outputs": [],
   "source": [
    "# Use the GTSAM library to find the optimal relative pose between the \n",
    "# ref frame and all other frames based on all the relative pose measurements\n",
    "import gtsam\n",
    "from gtsam import (\n",
    "    Pose3,\n",
    "    Rot3,\n",
    "    PriorFactorPose3,\n",
    "    BetweenFactorPose3,\n",
    "    Point3,\n",
    "    NonlinearFactorGraph,\n",
    "    LevenbergMarquardtOptimizer,\n",
    ")\n",
    "from gtsam.symbol_shorthand import X\n",
    "\n",
    "# Create a factor graph\n",
    "graph = NonlinearFactorGraph()\n",
    "\n",
    "initial = gtsam.Values()\n",
    "for key in name_to_id:\n",
    "    initial.insert(X(name_to_id[key]), gtsam.Pose3())\n",
    "\n",
    "# Add prior factors for the first two poses\n",
    "prior_noise = gtsam.noiseModel.Diagonal.Sigmas((0.1, 0.1, 0.1, 0.1, 0.1, 0.1))\n",
    "graph.add(PriorFactorPose3(X(name_to_id[ref_frame]), Pose3(), prior_noise))\n",
    "\n",
    "# Add between factors to constrain the poses\n",
    "between_noise = gtsam.noiseModel.Diagonal.Sigmas((0.01, 0.01, 0.01, 0.01, 0.01, 0.01))\n",
    "\n",
    "# Add between factor between ref frame and other frames\n",
    "for key in name_to_id:\n",
    "    if key != ref_frame:\n",
    "        ref_pose = poses[ref_frame][maps[key][:,0],...]\n",
    "        target_pose = poses[key][maps[key][:,1],...]\n",
    "        for i in range(ref_pose.shape[0]):\n",
    "            poses[ref_frame][maps[key][:,0],...]\n",
    "            pose1 = Pose3(ref_pose[0,...])\n",
    "            pose2 = Pose3(target_pose[0,...])\n",
    "            between12 = pose1.between(pose2)\n",
    "            graph.add(BetweenFactorPose3(X(name_to_id[ref_frame]), \n",
    "                                         X(name_to_id[key]), \n",
    "                                         between12, between_noise))\n",
    "\n",
    "# Optimize the factor graph\n",
    "params = gtsam.LevenbergMarquardtParams()\n",
    "optimizer = LevenbergMarquardtOptimizer(graph,initial,params)\n",
    "optimized_poses = optimizer.optimize()\n",
    "#Store the results\n",
    "results = {}\n",
    "for key in poses:\n",
    "    if key.startswith('Block'):\n",
    "        results[key] = optimized_poses.atPose3(X(name_to_id[key])).matrix()\n",
    "with open('small_tag_calibrateion.pkl', 'wb') as f:\n",
    "    pickle.dump(results, f)"
   ]
  },
  {
   "cell_type": "code",
   "execution_count": 14,
   "metadata": {},
   "outputs": [
    {
     "data": {
      "text/plain": [
       "{'Block_0': array([[ 1.38443567e-02,  9.99413579e-01,  3.13182331e-02,\n",
       "          3.52188461e-01],\n",
       "        [-9.99740217e-01,  1.44024568e-02, -1.76654524e-02,\n",
       "          1.80464300e-01],\n",
       "        [-1.81061525e-02, -3.10655303e-02,  9.99353341e-01,\n",
       "          8.59055744e-04],\n",
       "        [ 0.00000000e+00,  0.00000000e+00,  0.00000000e+00,\n",
       "          1.00000000e+00]]),\n",
       " 'Block_1': array([[ 0.01220344, -0.99915809, -0.03916865, -0.34677551],\n",
       "        [ 0.99910463,  0.013771  , -0.04000371,  0.17890405],\n",
       "        [ 0.04050942, -0.0386454 ,  0.99843153,  0.00711749],\n",
       "        [ 0.        ,  0.        ,  0.        ,  1.        ]]),\n",
       " 'Block_2': array([[-0.00845245, -0.99871814, -0.04990621, -0.3458542 ],\n",
       "        [ 0.99983225, -0.00925179,  0.01580762, -0.21369403],\n",
       "        [-0.01624908, -0.04976423,  0.9986288 ,  0.00454239],\n",
       "        [ 0.        ,  0.        ,  0.        ,  1.        ]]),\n",
       " 'Block_3': array([[ 1.00000000e+00,  3.75060995e-16,  2.90575480e-16,\n",
       "          1.58858120e-15],\n",
       "        [-4.44254215e-16,  1.00000000e+00, -2.20307529e-16,\n",
       "         -6.16691872e-15],\n",
       "        [-2.73578506e-16,  2.27945680e-16,  1.00000000e+00,\n",
       "          4.60933104e-16],\n",
       "        [ 0.00000000e+00,  0.00000000e+00,  0.00000000e+00,\n",
       "          1.00000000e+00]]),\n",
       " 'Block_4': array([[ 1.63954550e-03,  9.99716557e-01,  2.37511681e-02,\n",
       "          3.49662323e-01],\n",
       "        [-9.99947861e-01,  1.39961040e-03,  1.01151374e-02,\n",
       "         -2.09005100e-01],\n",
       "        [ 1.00790280e-02, -2.37665140e-02,  9.99666727e-01,\n",
       "          6.02535754e-05],\n",
       "        [ 0.00000000e+00,  0.00000000e+00,  0.00000000e+00,\n",
       "          1.00000000e+00]])}"
      ]
     },
     "execution_count": 14,
     "metadata": {},
     "output_type": "execute_result"
    }
   ],
   "source": [
    "results"
   ]
  },
  {
   "cell_type": "code",
   "execution_count": 15,
   "metadata": {},
   "outputs": [
    {
     "data": {
      "image/png": "[encoded data removed]",
      "text/plain": [
       "<Figure size 640x480 with 1 Axes>"
      ]
     },
     "metadata": {},
     "output_type": "display_data"
    }
   ],
   "source": [
    "import matplotlib.pyplot as plt\n",
    "for key in results:\n",
    "    if key == ref_frame:\n",
    "        plt.plot(results[key][0,-1], results[key][1,-1], 'r*')\n",
    "    else:\n",
    "        plt.plot(results[key][0,-1], results[key][1,-1], 'b*')"
   ]
  },
  {
   "cell_type": "code",
   "execution_count": 16,
   "metadata": {},
   "outputs": [],
   "source": [
    "tag_size = 0.172\n"
   ]
  },
  {
   "cell_type": "code",
   "execution_count": 18,
   "metadata": {},
   "outputs": [],
   "source": [
    "from scipy.spatial.transform import Rotation\n",
    "with open('bundle_calibration.txt','w') as f:\n",
    "    for i, key in enumerate(results.keys()):\n",
    "        q = Rotation.from_matrix(results[f'Block_{i}'][0:3,0:3]).as_quat()\n",
    "        r = results[key][0:3,-1]        \n",
    "        f.write(f'{{id: {i}, size: {tag_size}, x: {r[0]:.4f}, y: {r[1]:.4f}, z: {r[2]:.4f}, qw: {q[3]:.7f}, qx: {q[0]:.7f}, qy: {q[1]:.7f}, qz: {q[2]:.7f}}},\\n')"
   ]
  }
 ],
 "metadata": {
  "kernelspec": {
   "display_name": "Python 3",
   "language": "python",
   "name": "python3"
  },
  "language_info": {
   "codemirror_mode": {
    "name": "ipython",
    "version": 3
   },
   "file_extension": ".py",
   "mimetype": "text/x-python",
   "name": "python",
   "nbconvert_exporter": "python",
   "pygments_lexer": "ipython3",
   "version": "3.8.10"
  },
  "orig_nbformat": 4,
  "vscode": {
   "interpreter": {
    "hash": "916dbcbb3f70747c44a77c7bcd40155683ae19c65e1c03b4aa3499c5328201f1"
   }
  }
 },
 "nbformat": 4,
 "nbformat_minor": 2
}
