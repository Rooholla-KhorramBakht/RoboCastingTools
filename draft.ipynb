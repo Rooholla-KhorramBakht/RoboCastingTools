{
 "cells": [
  {
   "cell_type": "code",
   "execution_count": 47,
   "metadata": {},
   "outputs": [],
   "source": [
    "import rosbag\n",
    "from tf2_msgs.msg import TFMessage\n",
    "from collections import defaultdict\n",
    "\n",
    "def extract_tf_data(bagfile):\n",
    "    \"\"\"\n",
    "    Extracts transformation (TF) data from a given ROS bag file.\n",
    "    \n",
    "    Parameters:\n",
    "    bagfile (str): The path to the bag file from which to extract TF data.\n",
    "\n",
    "    Returns:\n",
    "    dict: A dictionary where the keys are the TF's frame IDs (child frame ID) and the values are lists of tuples. \n",
    "    Each tuple represents the time stamp of the frame, pose and the corresponding parent ID of the tf message.\n",
    "\n",
    "    Example:\n",
    "    {'tag_id1': [(timestamp2, (x, y, z, rotation), parent_id), ...], \n",
    "    'tag_id2': [(timestamp2, (x, y, z, rotation), parent_id), ...], \n",
    "    ...}\n",
    "    \"\"\"\n",
    "    bag = rosbag.Bag(bagfile)\n",
    "    tf_data = defaultdict(list)\n",
    "    for topic, msg, t in bag.read_messages(topics=['/tf', '/tf_static']):\n",
    "        for transform in msg.transforms:\n",
    "            # You can also use child_frame_id depending on your needs\n",
    "            tag_id = transform.child_frame_id\n",
    "            parent_id = transform.header.frame_id\n",
    "            pose = transform.transform\n",
    "            timestamp = t.to_sec()  # Convert to seconds\n",
    "\n",
    "            tf_data[tag_id].append((timestamp, parent_id, pose))\n",
    "\n",
    "    bag.close()\n",
    "    return tf_data"
   ]
  },
  {
   "cell_type": "code",
   "execution_count": 48,
   "metadata": {},
   "outputs": [],
   "source": [
    "bagfile = '/home/robocaster/Downloads/small_tags_calibration_dataset(tags).bag'\n",
    "tf_data = extract_tf_data(bagfile)\n",
    "\n",
    "# for tag_id, poses in tf_data.items():\n",
    "#     print(f\"Tag ID: {tag_id}\")\n",
    "#     for pose, timestamp in poses:\n",
    "#         print(f\"Pose: {pose}, Timestamp: {timestamp}\")\n"
   ]
  },
  {
   "cell_type": "code",
   "execution_count": 49,
   "metadata": {},
   "outputs": [
    {
     "data": {
      "text/plain": [
       "1824"
      ]
     },
     "execution_count": 49,
     "metadata": {},
     "output_type": "execute_result"
    }
   ],
   "source": [
    "len(tf_data['Block_1'])"
   ]
  },
  {
   "cell_type": "code",
   "execution_count": 50,
   "metadata": {},
   "outputs": [
    {
     "data": {
      "text/plain": [
       "dict_keys(['camera_depth_frame', 'camera_depth_optical_frame', 'camera_color_frame', 'camera_color_optical_frame', 'Block_1', 'Block_2', 'Block_3', 'Block_5', 'Block_6', 'Block_7', 'Block_12', 'Block_15', 'Block_11', 'Block_17', 'Block_8', 'Block_13', 'Block_9', 'Block_10', 'Block_16', 'Block_4', 'Block_0', 'Block_14', 'Block_18'])"
      ]
     },
     "execution_count": 50,
     "metadata": {},
     "output_type": "execute_result"
    }
   ],
   "source": [
    "tf_data.keys()"
   ]
  },
  {
   "cell_type": "code",
   "execution_count": null,
   "metadata": {},
   "outputs": [],
   "source": []
  }
 ],
 "metadata": {
  "kernelspec": {
   "display_name": "Python 3.8.10 64-bit",
   "language": "python",
   "name": "python3"
  },
  "language_info": {
   "codemirror_mode": {
    "name": "ipython",
    "version": 3
   },
   "file_extension": ".py",
   "mimetype": "text/x-python",
   "name": "python",
   "nbconvert_exporter": "python",
   "pygments_lexer": "ipython3",
   "version": "3.8.10"
  },
  "orig_nbformat": 4,
  "vscode": {
   "interpreter": {
    "hash": "31f2aee4e71d21fbe5cf8b01ff0e069b9275f58929596ceb00d14d90e3e16cd6"
   }
  }
 },
 "nbformat": 4,
 "nbformat_minor": 2
}
